{
  "cells": [
    {
      "cell_type": "markdown",
      "metadata": {},
      "source": [
        "# Ordenamento jurídico\n",
        "\n",
        "## Conceituação\n",
        "\n",
        "Dimensão hierárquica das normas (regras e princípios) de um Estado de Direito, dotado de unidade, coerência e completude (Bobbio 1995).\n",
        "\n",
        "![](images/piramide.png)\n",
        "\n",
        "# Carregar o pacote necessário\n",
        "library(ggplot2)\n",
        "\n",
        "# Definir os dados para a pirâmide\n",
        "data <- data.frame(\n",
        "  Level = c(\"Constituição\", \"Leis Complementares\", \"Leis Ordinárias\", \"Decretos\", \"Regulamentos\", \"Normas Infralegais\"),\n",
        "  Value = c(5, 4, 3, 2, 1, 0)  # Níveis hierárquicos (quanto mais alto, maior o valor)\n",
        ")\n"
      ],
      "id": "38749aa6"
    },
    {
      "cell_type": "code",
      "metadata": {},
      "source": [
        "library(ggplot2)\n",
        "\n",
        "# Definindo os níveis e suas posições\n",
        "levels <- c(\"Constituição\", \"Leis Complementares\", \"Leis Ordinárias\", \"Decretos e Regulamentos\", \"Normas Infralegais\")\n",
        "y_positions <- seq(1, 5, by = 1)  # Níveis da pirâmide (de cima para baixo)\n",
        "widths <- seq(0.1, 1, length.out = 5)  # Largura dos níveis (de cima para baixo)\n",
        "\n",
        "# Criar o data frame com as coordenadas\n",
        "pyramid_data <- data.frame(\n",
        "  level = factor(levels, levels = rev(levels)),\n",
        "  y = y_positions,\n",
        "  width = widths\n",
        ")\n",
        "\n",
        "# Plotando a pirâmide com ggplot2\n",
        "ggplot(pyramid_data) +\n",
        "  geom_rect(aes(xmin = 0.5 - width / 2, xmax = 0.5 + width / 2, ymin = y - 0.5, ymax = y + 0.5, fill = level), color = \"black\") +\n",
        "  scale_fill_manual(values = c(\"red\", \"orange\", \"yellow\", \"green\", \"blue\")) +\n",
        "  coord_fixed(ratio = 1) +  # Manter proporção correta\n",
        "  theme_void() +  # Remover fundo e eixos\n",
        "  labs(title = \"Pirâmide de Kelsen\", x = NULL, y = NULL) +\n",
        "  theme(legend.position = \"none\") +\n",
        "  geom_text(aes(x = 0.5, y = y, label = level), color = \"black\", size = 4, fontface = \"bold\")"
      ],
      "id": "a01451fc",
      "execution_count": null,
      "outputs": []
    }
  ],
  "metadata": {
    "kernelspec": {
      "name": "python3",
      "language": "python",
      "display_name": "Python 3 (ipykernel)"
    }
  },
  "nbformat": 4,
  "nbformat_minor": 5
}